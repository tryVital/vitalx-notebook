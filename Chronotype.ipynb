{
 "cells": [
  {
   "cell_type": "code",
   "execution_count": null,
   "metadata": {},
   "outputs": [],
   "source": [
    "from uuid import UUID\n",
    "from vitalx.types import VitalEnvironmentT\n",
    "from vitalx.types import VitalRegionT\n",
    "\n",
    "environment: VitalEnvironmentT = \"sandbox\"\n",
    "region: VitalRegionT = \"us\"\n",
    "\n",
    "team_id = UUID(\"TEAM_ID\")\n",
    "user_id = UUID(\"USER_ID\")"
   ]
  },
  {
   "cell_type": "code",
   "execution_count": null,
   "metadata": {},
   "outputs": [],
   "source": [
    "from vitalx.aggregation.executor import Executor\n",
    "\n",
    "executor = Executor(\n",
    "    environment=environment,\n",
    "    region=region,\n",
    "    team_id=team_id,\n",
    ")\n"
   ]
  },
  {
   "cell_type": "markdown",
   "metadata": {},
   "source": [
    "## Aggregation Query"
   ]
  },
  {
   "cell_type": "code",
   "execution_count": null,
   "metadata": {},
   "outputs": [],
   "source": [
    "from datetime import date\n",
    "from vitalx.aggregation import Period, RelativeTimeframe\n",
    "from vitalx.aggregation.dsl import Sleep, date_part, date_trunc, group_key, select\n",
    "\n",
    "(sleep_data_by_day,) = executor.query(\n",
    "    RelativeTimeframe(\n",
    "        type=\"relative\",\n",
    "        anchor=date.today(),\n",
    "        past=Period(value=3, unit=\"month\"),\n",
    "    ),\n",
    "    select(\n",
    "        group_key(\"*\"),\n",
    "        Sleep.col(\"session_start\").newest(),\n",
    "        Sleep.col(\"session_end\").newest(),\n",
    "        Sleep.col(\"duration_second\").newest(),\n",
    "    ).group_by(date_trunc(Sleep.index(), 1, \"day\")),\n",
    "\n",
    "    user_id=user_id,\n",
    ")\n"
   ]
  },
  {
   "cell_type": "markdown",
   "metadata": {},
   "source": [
    "## Compute midpoint & chronotype"
   ]
  },
  {
   "cell_type": "code",
   "execution_count": null,
   "metadata": {},
   "outputs": [],
   "source": [
    "import polars\n",
    "\n",
    "\n",
    "_sleep_data_by_day = (\n",
    "    sleep_data_by_day\n",
    "    .cast({\"group_key.0\": polars.Date(), \"newest.session_end\": polars.Datetime(), \"newest.session_start\": polars.Datetime()})\n",
    "    .select(\n",
    "        day=\"group_key.0\",\n",
    "        start=\"newest.session_start\",\n",
    "        end=\"newest.session_end\",\n",
    "        duration=\"newest.duration_second\",\n",
    "    )\n",
    ")\n",
    "\n",
    "analysis = (\n",
    "    _sleep_data_by_day\n",
    "    .select(\n",
    "        \"day\",\n",
    "        (\n",
    "            polars.col(\"start\") + (polars.col(\"end\") - polars.col(\"start\")) / 2\n",
    "        ).dt.time().alias(\"midpoint\")\n",
    "    )\n",
    "    .with_columns(\n",
    "        polars.when(\n",
    "            (polars.col(\"midpoint\") >= polars.time(17, 0, 0)) | (polars.col(\"midpoint\") <= polars.time(3, 30, 0))\n",
    "        )\n",
    "        .then(polars.lit(\"lark\"))\n",
    "        .otherwise(\n",
    "            polars.when(polars.col(\"midpoint\") <= polars.time(5, 30, 0))\n",
    "            .then(polars.lit(\"third\"))\n",
    "            .otherwise(polars.lit(\"owl\"))\n",
    "        )\n",
    "    )\n",
    ")\n",
    "\n",
    "analysis"
   ]
  },
  {
   "cell_type": "code",
   "execution_count": null,
   "metadata": {},
   "outputs": [],
   "source": [
    "from datetime import datetime, date, time, timedelta\n",
    "from typing import cast\n",
    "import matplotlib.pyplot as plt\n",
    "\n",
    "# 6pm-12pm\n",
    "late_evening_second_offset = 20 * 3600\n",
    "late_evening = time(20, 0, 0)\n",
    "\n",
    "midpoints: list[time] = [t for t in analysis.get_column(\"midpoint\").to_list()]\n",
    "adjusted_time_offsets = []\n",
    "\n",
    "for midpoint in midpoints:\n",
    "    second_offset = (datetime.combine(date.min, midpoint) - datetime.min).total_seconds()\n",
    "\n",
    "    if midpoint >= time(20, 0, 0):\n",
    "        adjusted_time_offsets.append(\n",
    "            -(86400 - late_evening_second_offset) + (second_offset - late_evening_second_offset)\n",
    "        )\n",
    "    else:\n",
    "        adjusted_time_offsets.append(second_offset)\n",
    "\n",
    "ticks = []\n",
    "tick_labels = []\n",
    "\n",
    "for i in range(0, 96):\n",
    "    dt = datetime.combine(date.min, late_evening) + timedelta(minutes=i*15)\n",
    "    ticks.append(-(86400 - late_evening_second_offset) + (i*15*60))\n",
    "    tick_labels.append(dt.time().isoformat(timespec=\"seconds\"))\n",
    "\n",
    "plt.figure(figsize=(16,6))\n",
    "ax = plt.gca()\n",
    "ax.yaxis.set_inverted(True)\n",
    "plt.yticks(ticks, tick_labels)\n",
    "plt.grid()\n",
    "plt.plot(\n",
    "    analysis.get_column(\"day\"),\n",
    "    adjusted_time_offsets,\n",
    ")\n",
    "plt.show()"
   ]
  }
 ],
 "metadata": {
  "kernelspec": {
   "display_name": ".venv",
   "language": "python",
   "name": "python3"
  },
  "language_info": {
   "codemirror_mode": {
    "name": "ipython",
    "version": 3
   },
   "file_extension": ".py",
   "mimetype": "text/x-python",
   "name": "python",
   "nbconvert_exporter": "python",
   "pygments_lexer": "ipython3",
   "version": "3.11.7"
  }
 },
 "nbformat": 4,
 "nbformat_minor": 2
}
