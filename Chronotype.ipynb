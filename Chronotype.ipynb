{
 "cells": [
  {
   "cell_type": "code",
   "execution_count": null,
   "metadata": {},
   "outputs": [],
   "source": [
    "from uuid import UUID\n",
    "from vitalx.types import VitalEnvironmentT\n",
    "from vitalx.types import VitalRegionT\n",
    "\n",
    "environment: VitalEnvironmentT = \"sandbox\"\n",
    "region: VitalRegionT = \"us\"\n",
    "\n",
    "team_id = UUID(\"TEAM_ID\")\n",
    "user_id = UUID(\"USER_ID\")"
   ]
  },
  {
   "cell_type": "code",
   "execution_count": 14,
   "metadata": {},
   "outputs": [],
   "source": [
    "from vitalx.aggregation.executor import Executor\n",
    "\n",
    "query_executor = Executor(\n",
    "    environment=environment,\n",
    "    region=region,\n",
    "    team_id=team_id,\n",
    ")\n"
   ]
  },
  {
   "cell_type": "markdown",
   "metadata": {},
   "source": [
    "## Aggregation Query"
   ]
  },
  {
   "cell_type": "code",
   "execution_count": null,
   "metadata": {},
   "outputs": [],
   "source": [
    "from datetime import date\n",
    "from vitalx.aggregation import *\n",
    "\n",
    "(chronotype_by_day,) = query_executor.query(\n",
    "    RelativeTimeframe(\n",
    "        type=\"relative\",\n",
    "        anchor=date.today(),\n",
    "        past=Period(value=3, unit=\"month\"),\n",
    "    ),\n",
    "    select(\n",
    "        group_key(\"*\"),\n",
    "        Sleep.chronotype().newest(),\n",
    "    ).group_by(\n",
    "        date_trunc(Sleep.index(), 1, \"day\")\n",
    "    ),\n",
    "\n",
    "    user_id=user_id,\n",
    ")\n"
   ]
  },
  {
   "cell_type": "code",
   "execution_count": 17,
   "metadata": {},
   "outputs": [
    {
     "data": {
      "text/html": [
       "<div><style>\n",
       ".dataframe > thead > tr,\n",
       ".dataframe > tbody > tr {\n",
       "  text-align: right;\n",
       "  white-space: pre-wrap;\n",
       "}\n",
       "</style>\n",
       "<small>shape: (92, 2)</small><table border=\"1\" class=\"dataframe\"><thead><tr><th>group_key.0</th><th>newest</th></tr><tr><td>datetime[μs]</td><td>str</td></tr></thead><tbody><tr><td>2024-09-13 00:00:00</td><td>&quot;third&quot;</td></tr><tr><td>2024-09-14 00:00:00</td><td>&quot;third&quot;</td></tr><tr><td>2024-09-15 00:00:00</td><td>&quot;third&quot;</td></tr><tr><td>2024-09-16 00:00:00</td><td>&quot;third&quot;</td></tr><tr><td>2024-09-17 00:00:00</td><td>&quot;third&quot;</td></tr><tr><td>&hellip;</td><td>&hellip;</td></tr><tr><td>2024-12-09 00:00:00</td><td>&quot;third&quot;</td></tr><tr><td>2024-12-10 00:00:00</td><td>&quot;third&quot;</td></tr><tr><td>2024-12-11 00:00:00</td><td>&quot;third&quot;</td></tr><tr><td>2024-12-12 00:00:00</td><td>&quot;third&quot;</td></tr><tr><td>2024-12-13 00:00:00</td><td>&quot;third&quot;</td></tr></tbody></table></div>"
      ],
      "text/plain": [
       "shape: (92, 2)\n",
       "┌─────────────────────┬────────┐\n",
       "│ group_key.0         ┆ newest │\n",
       "│ ---                 ┆ ---    │\n",
       "│ datetime[μs]        ┆ str    │\n",
       "╞═════════════════════╪════════╡\n",
       "│ 2024-09-13 00:00:00 ┆ third  │\n",
       "│ 2024-09-14 00:00:00 ┆ third  │\n",
       "│ 2024-09-15 00:00:00 ┆ third  │\n",
       "│ 2024-09-16 00:00:00 ┆ third  │\n",
       "│ 2024-09-17 00:00:00 ┆ third  │\n",
       "│ …                   ┆ …      │\n",
       "│ 2024-12-09 00:00:00 ┆ third  │\n",
       "│ 2024-12-10 00:00:00 ┆ third  │\n",
       "│ 2024-12-11 00:00:00 ┆ third  │\n",
       "│ 2024-12-12 00:00:00 ┆ third  │\n",
       "│ 2024-12-13 00:00:00 ┆ third  │\n",
       "└─────────────────────┴────────┘"
      ]
     },
     "execution_count": 17,
     "metadata": {},
     "output_type": "execute_result"
    }
   ],
   "source": [
    "chronotype_by_day"
   ]
  },
  {
   "cell_type": "code",
   "execution_count": 16,
   "metadata": {},
   "outputs": [
    {
     "data": {
      "image/png": "[encoded data removed]",
      "text/plain": [
       "<Figure size 1600x600 with 1 Axes>"
      ]
     },
     "metadata": {},
     "output_type": "display_data"
    }
   ],
   "source": [
    "import matplotlib.pyplot as plt\n",
    "\n",
    "\n",
    "plt.figure(figsize=(16,6))\n",
    "ax = plt.gca()\n",
    "plt.title(\"Sleep Chronotype\")\n",
    "plt.pie(\n",
    "    chronotype_by_day.get_column(\"newest\").unique_counts(),\n",
    "    labels=chronotype_by_day.get_column(\"newest\").unique(),\n",
    ")\n",
    "plt.show()"
   ]
  }
 ],
 "metadata": {
  "kernelspec": {
   "display_name": ".venv",
   "language": "python",
   "name": "python3"
  },
  "language_info": {
   "codemirror_mode": {
    "name": "ipython",
    "version": 3
   },
   "file_extension": ".py",
   "mimetype": "text/x-python",
   "name": "python",
   "nbconvert_exporter": "python",
   "pygments_lexer": "ipython3",
   "version": "3.11.7"
  }
 },
 "nbformat": 4,
 "nbformat_minor": 2
}
