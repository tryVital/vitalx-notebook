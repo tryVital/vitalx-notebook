{
 "cells": [
  {
   "cell_type": "code",
   "execution_count": null,
   "metadata": {},
   "outputs": [],
   "source": [
    "from uuid import UUID\n",
    "from vitalx.types import VitalEnvironmentT\n",
    "from vitalx.types import VitalRegionT\n",
    "\n",
    "environment: VitalEnvironmentT = \"sandbox\"\n",
    "region: VitalRegionT = \"us\"\n",
    "\n",
    "team_id = UUID(\"TEAM_ID\")\n",
    "user_id = UUID(\"USER_ID\")"
   ]
  },
  {
   "cell_type": "code",
   "execution_count": null,
   "metadata": {},
   "outputs": [],
   "source": [
    "from vitalx.aggregation.executor import Executor\n",
    "\n",
    "query_executor = Executor(\n",
    "    environment=environment,\n",
    "    region=region,\n",
    "    team_id=team_id,\n",
    ")\n"
   ]
  },
  {
   "cell_type": "markdown",
   "metadata": {},
   "source": [
    "## Aggregation Query"
   ]
  },
  {
   "cell_type": "code",
   "execution_count": null,
   "metadata": {},
   "outputs": [],
   "source": [
    "from datetime import date\n",
    "from vitalx.aggregation import *\n",
    "\n",
    "(sleep_score_by_day,) = query_executor.query(\n",
    "    RelativeTimeframe(\n",
    "        type=\"relative\",\n",
    "        anchor=date.today(),\n",
    "        past=Period(value=6, unit=\"month\"),\n",
    "    ),\n",
    "    select(\n",
    "        group_key(\"*\"),\n",
    "        Sleep.col(\"duration_second\").newest(),\n",
    "        Sleep.col(\"efficiency\").newest(),\n",
    "        Sleep.score().newest(),\n",
    "    ).group_by(date_trunc(Sleep.index(), 1, \"day\")),\n",
    "\n",
    "    user_id=user_id,\n",
    ")\n"
   ]
  },
  {
   "cell_type": "markdown",
   "metadata": {},
   "source": [
    "## Sleep Scores"
   ]
  },
  {
   "cell_type": "code",
   "execution_count": null,
   "metadata": {},
   "outputs": [],
   "source": [
    "sleep_score_by_day"
   ]
  },
  {
   "cell_type": "code",
   "execution_count": null,
   "metadata": {},
   "outputs": [],
   "source": [
    "import matplotlib.pyplot as plt\n",
    "\n",
    "\n",
    "plt.figure(figsize=(16,6))\n",
    "ax = plt.gca()\n",
    "plt.title(\"Sleep Score\")\n",
    "plt.grid()\n",
    "plt.plot(\n",
    "    sleep_score_by_day.get_column(\"group_key.0\"),\n",
    "    sleep_score_by_day.get_column(\"newest.sleep_score\"),\n",
    ")\n",
    "plt.show()"
   ]
  },
  {
   "cell_type": "code",
   "execution_count": null,
   "metadata": {},
   "outputs": [],
   "source": [
    "import matplotlib.pyplot as plt\n",
    "\n",
    "\n",
    "plt.figure(figsize=(16,6))\n",
    "ax = plt.gca()\n",
    "plt.title(\"Sleep Efficiency\")\n",
    "plt.grid()\n",
    "plt.plot(\n",
    "    sleep_score_by_day.get_column(\"group_key.0\"),\n",
    "    sleep_score_by_day.get_column(\"newest.efficiency\"),\n",
    ")\n",
    "plt.show()"
   ]
  }
 ],
 "metadata": {
  "kernelspec": {
   "display_name": ".venv",
   "language": "python",
   "name": "python3"
  },
  "language_info": {
   "codemirror_mode": {
    "name": "ipython",
    "version": 3
   },
   "file_extension": ".py",
   "mimetype": "text/x-python",
   "name": "python",
   "nbconvert_exporter": "python",
   "pygments_lexer": "ipython3",
   "version": "3.11.7"
  }
 },
 "nbformat": 4,
 "nbformat_minor": 2
}
